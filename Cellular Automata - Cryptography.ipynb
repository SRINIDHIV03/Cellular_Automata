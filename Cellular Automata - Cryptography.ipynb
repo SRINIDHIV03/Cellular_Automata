{
 "cells": [
  {
   "cell_type": "code",
   "execution_count": 13,
   "id": "8a923d9b",
   "metadata": {},
   "outputs": [],
   "source": [
    "private_key = (55,4)  #private key is a 2 tuple containing (start location, iteration limit N)\n",
    "init_state = [0,0,0,0,0,1,0,0]  #define initial state as well\n",
    "plaintext = \"Hi, how art thou?\""
   ]
  },
  {
   "cell_type": "code",
   "execution_count": 14,
   "id": "d4b3b9f1",
   "metadata": {},
   "outputs": [],
   "source": [
    "rule_90 = [0,1,0,1,1,0,1,0]  #rule 90 has code 01011010\n",
    "rule_150 = [0,1,1,0,1,0,0,1] #rule 150 has code 01101001"
   ]
  },
  {
   "cell_type": "code",
   "execution_count": 15,
   "id": "b19d8189",
   "metadata": {},
   "outputs": [],
   "source": [
    "def build_CA(x, init_state):\n",
    "    res = []\n",
    "    res = res+[init_state]\n",
    "    for i in range(1, x+1):\n",
    "        next_state = []\n",
    "        prev_state = res[i-1]\n",
    "        for j in range(0,8): #iterate from 1 to 6 to figure out the next cells\n",
    "            if j==0:\n",
    "                val = prev_state[j]*2 + prev_state[j+1]\n",
    "            elif j==7:\n",
    "                val = prev_state[j-1]*4 + prev_state[j]*2\n",
    "            else:\n",
    "                val = prev_state[j-1]*4 + prev_state[j]*2 + prev_state[j+1]  #get bit representation of the above 3 cells\n",
    "            if prev_state[j]==0:\n",
    "                next_state = next_state + [rule_90[val]]\n",
    "            else:\n",
    "                next_state = next_state + [rule_150[val]]\n",
    "        #next_state = [0]+next_state+[0]   #pad start and end with 0s as in the paper\n",
    "        res = res + [next_state]  #append the next state to result\n",
    "    return res"
   ]
  },
  {
   "cell_type": "code",
   "execution_count": 16,
   "id": "37cd229d",
   "metadata": {},
   "outputs": [],
   "source": [
    "def char_to_binary_list(char):\n",
    "    ascii_value = ord(char)    # Get the ASCII value of the character\n",
    "    binary_representation = bin(ascii_value)[2:]    # Convert the ASCII value to binary and remove the '0b' prefix\n",
    "    binary_representation = binary_representation.zfill(8)    # Pad with zeros to ensure a fixed length of 8 bits\n",
    "    binary_list = [int(bit) for bit in binary_representation]    # Convert the binary string to a list of integers\n",
    "    return binary_list\n"
   ]
  },
  {
   "cell_type": "code",
   "execution_count": 17,
   "id": "135785f6",
   "metadata": {},
   "outputs": [],
   "source": [
    "def binary_list_to_char(binary_list):\n",
    "    binary_string = ''.join(map(str, binary_list))    # Convert the binary list to a binary string\n",
    "    decimal_value = int(binary_string, 2)    # Convert the binary string to an integer\n",
    "    char = chr(decimal_value)    # Convert the decimal value to a character\n",
    "    return char\n"
   ]
  },
  {
   "cell_type": "code",
   "execution_count": 18,
   "id": "8b2ae4f1",
   "metadata": {},
   "outputs": [],
   "source": [
    "CA = build_CA(private_key[0]+private_key[1],init_state)\n",
    "#print(cryptography(plaintext))"
   ]
  },
  {
   "cell_type": "code",
   "execution_count": 19,
   "id": "bd603bd7",
   "metadata": {},
   "outputs": [
    {
     "name": "stdout",
     "output_type": "stream",
     "text": [
      "[1, 0, 0, 0, 0, 0, 0, 1]\n"
     ]
    }
   ],
   "source": [
    "def encrypt(l):\n",
    "    for i in range(private_key[0],private_key[1]+private_key[0]+1):  #iterate from start N times\n",
    "        temp = CA[i]\n",
    "#        print(l,temp)\n",
    "        l = [a^b for a,b in zip(l,temp)]\n",
    "    return l\n",
    "print(encrypt(char_to_binary_list('s')))"
   ]
  },
  {
   "cell_type": "code",
   "execution_count": 20,
   "id": "b35d8833",
   "metadata": {},
   "outputs": [],
   "source": [
    "def cryptography(text):\n",
    "    res = ''\n",
    "    for char in text:\n",
    "        temp = encrypt(char_to_binary_list(char))\n",
    "        res = res+binary_list_to_char(temp)\n",
    "    return res"
   ]
  },
  {
   "cell_type": "code",
   "execution_count": 21,
   "id": "42390f1e",
   "metadata": {},
   "outputs": [
    {
     "name": "stdout",
     "output_type": "stream",
     "text": [
      "Encrypted: ºÞÒÒÒÍ\n",
      "Decrypted: Hi, how art thou?\n",
      "Character: º, ASCII Code: 186\n",
      "Character: , ASCII Code: 155\n",
      "Character: Þ, ASCII Code: 222\n",
      "Character: Ò, ASCII Code: 210\n",
      "Character: , ASCII Code: 154\n",
      "Character: , ASCII Code: 157\n",
      "Character: , ASCII Code: 133\n",
      "Character: Ò, ASCII Code: 210\n",
      "Character: , ASCII Code: 147\n",
      "Character: , ASCII Code: 128\n",
      "Character: , ASCII Code: 134\n",
      "Character: Ò, ASCII Code: 210\n",
      "Character: , ASCII Code: 134\n",
      "Character: , ASCII Code: 154\n",
      "Character: , ASCII Code: 157\n",
      "Character: , ASCII Code: 135\n",
      "Character: Í, ASCII Code: 205\n"
     ]
    }
   ],
   "source": [
    "ciphertext = cryptography(plaintext)\n",
    "ascii_codes = [ord(char) for char in ciphertext]\n",
    "\n",
    "print(\"Encrypted:\",ciphertext)\n",
    "print(\"Decrypted:\",cryptography(ciphertext))\n",
    "\n",
    "for char, ascii_code in zip(ciphertext, ascii_codes):\n",
    "    print(f\"Character: {char}, ASCII Code: {ascii_code}\")\n"
   ]
  },
  {
   "cell_type": "code",
   "execution_count": null,
   "id": "a3f4057a",
   "metadata": {},
   "outputs": [],
   "source": []
  },
  {
   "cell_type": "code",
   "execution_count": 22,
   "id": "cc647d10",
   "metadata": {},
   "outputs": [
    {
     "name": "stdout",
     "output_type": "stream",
     "text": [
      "Bitwise AND: [0, 0, 0, 0]\n",
      "Bitwise OR: [1, 1, 1, 1]\n",
      "Bitwise XOR: [1, 1, 1, 1]\n"
     ]
    }
   ],
   "source": [
    "# Define two lists containing only 0s and 1s\n",
    "list1 = [1, 0, 1, 0]\n",
    "list2 = [0, 1, 0, 1]\n",
    "\n",
    "# Bitwise AND\n",
    "result_and = [a & b for a, b in zip(list1, list2)]\n",
    "print(\"Bitwise AND:\", result_and)\n",
    "\n",
    "# Bitwise OR\n",
    "result_or = [a | b for a, b in zip(list1, list2)]\n",
    "print(\"Bitwise OR:\", result_or)\n",
    "\n",
    "# Bitwise XOR\n",
    "result_xor = [a ^ b for a, b in zip(list1, list2)]\n",
    "print(\"Bitwise XOR:\", result_xor)"
   ]
  }
 ],
 "metadata": {
  "kernelspec": {
   "display_name": "Python 3 (ipykernel)",
   "language": "python",
   "name": "python3"
  },
  "language_info": {
   "codemirror_mode": {
    "name": "ipython",
    "version": 3
   },
   "file_extension": ".py",
   "mimetype": "text/x-python",
   "name": "python",
   "nbconvert_exporter": "python",
   "pygments_lexer": "ipython3",
   "version": "3.11.5"
  }
 },
 "nbformat": 4,
 "nbformat_minor": 5
}
